{
 "cells": [
  {
   "cell_type": "raw",
   "id": "1d3009c5-4d01-4a66-a5a4-dee6c5fb0d64",
   "metadata": {},
   "source": [
    "1. Make a class called Thing with no contents and print it. Then, create an object called example\n",
    "from this class and also print it. Are the printed values the same or different?"
   ]
  },
  {
   "cell_type": "code",
   "execution_count": 1,
   "id": "83a30022-ffbd-4350-a105-6735cdb5e4d8",
   "metadata": {},
   "outputs": [
    {
     "name": "stdout",
     "output_type": "stream",
     "text": [
      "<class '__main__.Thing'>\n"
     ]
    }
   ],
   "source": [
    "class Thing:\n",
    "    pass\n",
    "print(Thing)"
   ]
  },
  {
   "cell_type": "code",
   "execution_count": 2,
   "id": "8e323c6c-c0d7-4e36-aca5-dc65785cc97d",
   "metadata": {},
   "outputs": [
    {
     "name": "stdout",
     "output_type": "stream",
     "text": [
      "<__main__.Thing object at 0x7fa2a04d3610>\n"
     ]
    }
   ],
   "source": [
    "example = Thing()\n",
    "print(example)"
   ]
  },
  {
   "cell_type": "raw",
   "id": "969af46b-92a0-475f-a35f-814dbc07b762",
   "metadata": {},
   "source": [
    "2. Create a new class called Thing2 and add the value 'abc' to the letters class attribute. Letters\n",
    "should be printed."
   ]
  },
  {
   "cell_type": "code",
   "execution_count": 3,
   "id": "0e2b1add-a390-4edf-ad5d-1db995d732b3",
   "metadata": {},
   "outputs": [
    {
     "name": "stdout",
     "output_type": "stream",
     "text": [
      "abc\n"
     ]
    }
   ],
   "source": [
    "class Thing2:\n",
    "    letters = 'abc'\n",
    "print(Thing2.letters)"
   ]
  },
  {
   "cell_type": "raw",
   "id": "78258727-beab-41aa-9dbe-6331c3ed2532",
   "metadata": {},
   "source": [
    "3. Make yet another class called, of course, Thing3. This time, assign the value 'xyz' to an instance\n",
    "(object) attribute called letters. Print letters. Do you need to make an object from the class to do\n",
    "this?"
   ]
  },
  {
   "cell_type": "code",
   "execution_count": 4,
   "id": "9fdce0f7-626d-4143-ae53-13e1ee4466c3",
   "metadata": {},
   "outputs": [],
   "source": [
    "class Thing3:\n",
    "    def __init__(self):\n",
    "        self.letters = 'xyz'"
   ]
  },
  {
   "cell_type": "raw",
   "id": "0b155768-6dc3-49eb-8fea-c23a859c466c",
   "metadata": {},
   "source": [
    "The variable letters belongs to any objects made from Thing3, not the Thing3 class itself:"
   ]
  },
  {
   "cell_type": "code",
   "execution_count": 5,
   "id": "399f526c-5cb1-4cea-96da-1802969aca58",
   "metadata": {},
   "outputs": [
    {
     "ename": "AttributeError",
     "evalue": "type object 'Thing3' has no attribute 'letters'",
     "output_type": "error",
     "traceback": [
      "\u001b[0;31m---------------------------------------------------------------------------\u001b[0m",
      "\u001b[0;31mAttributeError\u001b[0m                            Traceback (most recent call last)",
      "Cell \u001b[0;32mIn [5], line 1\u001b[0m\n\u001b[0;32m----> 1\u001b[0m \u001b[38;5;28mprint\u001b[39m(\u001b[43mThing3\u001b[49m\u001b[38;5;241;43m.\u001b[39;49m\u001b[43mletters\u001b[49m)\n",
      "\u001b[0;31mAttributeError\u001b[0m: type object 'Thing3' has no attribute 'letters'"
     ]
    }
   ],
   "source": [
    "print(Thing3.letters)"
   ]
  },
  {
   "cell_type": "code",
   "execution_count": 6,
   "id": "daa3a0db-91b4-4973-827b-e0820ebde99d",
   "metadata": {},
   "outputs": [
    {
     "name": "stdout",
     "output_type": "stream",
     "text": [
      "xyz\n"
     ]
    }
   ],
   "source": [
    "a = Thing3()\n",
    "print(a.letters)"
   ]
  },
  {
   "cell_type": "raw",
   "id": "47a34045-1035-4592-8147-ffe7ca09f6ba",
   "metadata": {},
   "source": [
    "4. Create an Element class with the instance attributes name, symbol, and number. Create a class\n",
    "object with the values 'Hydrogen','H'and 1."
   ]
  },
  {
   "cell_type": "code",
   "execution_count": 18,
   "id": "f9f7ad15-4d9d-42e2-b41b-b29a2e25e067",
   "metadata": {},
   "outputs": [],
   "source": [
    "class Element:\n",
    "    def __init__(self, name, symbol, number):\n",
    "        self.name = name\n",
    "        self.symbol = symbol\n",
    "        self.number = number\n",
    "hydrogen = Element('Hydrogen', 'H', 1)\n"
   ]
  },
  {
   "cell_type": "code",
   "execution_count": 19,
   "id": "0121ea3a-950d-4869-b848-1307f3526bff",
   "metadata": {},
   "outputs": [
    {
     "data": {
      "text/plain": [
       "'Hydrogen'"
      ]
     },
     "execution_count": 19,
     "metadata": {},
     "output_type": "execute_result"
    }
   ],
   "source": [
    "hydrogen.name"
   ]
  },
  {
   "cell_type": "code",
   "execution_count": 20,
   "id": "2572915c-bd93-4c74-bd70-a020de24aebe",
   "metadata": {},
   "outputs": [
    {
     "data": {
      "text/plain": [
       "1"
      ]
     },
     "execution_count": 20,
     "metadata": {},
     "output_type": "execute_result"
    }
   ],
   "source": [
    "hydrogen.number"
   ]
  },
  {
   "cell_type": "code",
   "execution_count": 21,
   "id": "40d8f682-9420-44dd-87d6-f35f60b8c1a0",
   "metadata": {},
   "outputs": [
    {
     "data": {
      "text/plain": [
       "'H'"
      ]
     },
     "execution_count": 21,
     "metadata": {},
     "output_type": "execute_result"
    }
   ],
   "source": [
    "hydrogen.symbol"
   ]
  },
  {
   "cell_type": "raw",
   "id": "f7622082-715b-4def-acba-000d4a8621c6",
   "metadata": {},
   "source": [
    "5. Make a dictionary with these keys and values: 'name': 'Hydrogen', 'symbol': 'H', 'number': 1. Then,\n",
    "create an object called hydrogen from class Element using this dictionary."
   ]
  },
  {
   "cell_type": "code",
   "execution_count": 22,
   "id": "ef4dbf1b-d50c-41d8-82ff-f14edd9dfa88",
   "metadata": {},
   "outputs": [],
   "source": [
    "ele_dict = {'name': 'Hydrogen', 'symbol': 'H', 'number': 1}"
   ]
  },
  {
   "cell_type": "code",
   "execution_count": 23,
   "id": "11070d80-1344-47cf-9b26-d82f4d6beb8c",
   "metadata": {},
   "outputs": [],
   "source": [
    "hydrogen = Element(ele_dict['name'], ele_dict['symbol'], ele_dict['number'])"
   ]
  },
  {
   "cell_type": "code",
   "execution_count": 26,
   "id": "210eeb9d-1e8e-4077-8e6f-3ed715dae9b5",
   "metadata": {},
   "outputs": [
    {
     "data": {
      "text/plain": [
       "'Hydrogen'"
      ]
     },
     "execution_count": 26,
     "metadata": {},
     "output_type": "execute_result"
    }
   ],
   "source": [
    "hydrogen.name"
   ]
  },
  {
   "cell_type": "code",
   "execution_count": 27,
   "id": "1fbbd098-f282-405f-8c60-0ed41b4be72e",
   "metadata": {},
   "outputs": [
    {
     "data": {
      "text/plain": [
       "1"
      ]
     },
     "execution_count": 27,
     "metadata": {},
     "output_type": "execute_result"
    }
   ],
   "source": [
    "hydrogen.number"
   ]
  },
  {
   "cell_type": "code",
   "execution_count": 28,
   "id": "5cd467c1-bf07-4d58-afbb-ebfe860d134a",
   "metadata": {},
   "outputs": [
    {
     "data": {
      "text/plain": [
       "'H'"
      ]
     },
     "execution_count": 28,
     "metadata": {},
     "output_type": "execute_result"
    }
   ],
   "source": [
    "hydrogen.symbol"
   ]
  },
  {
   "cell_type": "raw",
   "id": "bc9be514-0904-4023-af44-8e95ab6502c2",
   "metadata": {},
   "source": [
    "6. For the Element class, define a method called dump() that prints the values of the object’s\n",
    "attributes (name, symbol, and number). Create the hydrogen object from this new definition and\n",
    "use dump() to print its attributes."
   ]
  },
  {
   "cell_type": "code",
   "execution_count": 30,
   "id": "2a9dffec-265d-41a3-b78c-f7dddb5a3e89",
   "metadata": {},
   "outputs": [
    {
     "name": "stdout",
     "output_type": "stream",
     "text": [
      "name=Hydrogen, symbol=H, number=1\n"
     ]
    }
   ],
   "source": [
    "class Element:\n",
    "    def __init__(self, name, symbol, number):\n",
    "        self.name = name\n",
    "        self.symbol = symbol\n",
    "        self.number = number\n",
    "    def dump(self):\n",
    "        print('name=%s, symbol=%s, number=%s' %(self.name, self.symbol, self.number))\n",
    "hydrogen = Element(**ele_dict)\n",
    "hydrogen.dump()"
   ]
  },
  {
   "cell_type": "raw",
   "id": "6bd60b7f-fb2a-4311-b05e-01861a7233b9",
   "metadata": {},
   "source": [
    "7. Call print(hydrogen). In the definition of Element, change the name of method dump to __str__,\n",
    "create a new hydrogen object, and call print(hydrogen) again."
   ]
  },
  {
   "cell_type": "code",
   "execution_count": 31,
   "id": "3ffc54f4-4a1d-4a7c-8f6c-227c7d562bc5",
   "metadata": {},
   "outputs": [
    {
     "name": "stdout",
     "output_type": "stream",
     "text": [
      "<__main__.Element object at 0x7fa290533e80>\n"
     ]
    }
   ],
   "source": [
    "print(hydrogen)"
   ]
  },
  {
   "cell_type": "code",
   "execution_count": 32,
   "id": "a7f06a15-92d7-49af-8029-24c7d48ce2c0",
   "metadata": {},
   "outputs": [
    {
     "name": "stdout",
     "output_type": "stream",
     "text": [
      "name=Hydrogen, symbol=H, number=1\n"
     ]
    }
   ],
   "source": [
    "class Element:\n",
    "    def __init__(self, name, symbol, number):\n",
    "        self.name = name\n",
    "        self.symbol = symbol\n",
    "        self.number = number\n",
    "    def __str__(self):\n",
    "        return ('name=%s, symbol=%s, number=%s' %(self.name, self.symbol, self.number))\n",
    "\n",
    "hydrogen = Element(**ele_dict)\n",
    "print(hydrogen)"
   ]
  },
  {
   "cell_type": "raw",
   "id": "48cb6d81-fd7c-4360-9c13-ad0a4f6095aa",
   "metadata": {},
   "source": [
    "8. Modify Element to make the attributes name, symbol, and number private. Define a getter\n",
    "property for each to return its value."
   ]
  },
  {
   "cell_type": "code",
   "execution_count": 33,
   "id": "0346f071-831c-453a-b414-70879a5560a5",
   "metadata": {},
   "outputs": [],
   "source": [
    "class Element:\n",
    "    def __init__(self, name, symbol, number):\n",
    "        self.__name = name\n",
    "        self.__symbol = symbol\n",
    "        self.__number = number\n",
    "    @property    \n",
    "    def name(self):\n",
    "        return self.__name\n",
    "    @property\n",
    "    def symbol(self):\n",
    "        return self.__symbol\n",
    "    @property\n",
    "    def number(self):\n",
    "        return self.__number\n",
    "hydrogen = Element('Hydrogen', 'H', 1)"
   ]
  },
  {
   "cell_type": "code",
   "execution_count": 34,
   "id": "bd95ef5e-3743-4c15-8225-a706ec4b280d",
   "metadata": {},
   "outputs": [
    {
     "data": {
      "text/plain": [
       "'Hydrogen'"
      ]
     },
     "execution_count": 34,
     "metadata": {},
     "output_type": "execute_result"
    }
   ],
   "source": [
    "hydrogen.name"
   ]
  },
  {
   "cell_type": "code",
   "execution_count": 35,
   "id": "2e2512d2-53aa-4a91-9f37-dbad1f5ae850",
   "metadata": {},
   "outputs": [
    {
     "data": {
      "text/plain": [
       "1"
      ]
     },
     "execution_count": 35,
     "metadata": {},
     "output_type": "execute_result"
    }
   ],
   "source": [
    "hydrogen.number"
   ]
  },
  {
   "cell_type": "code",
   "execution_count": 36,
   "id": "2f7bed70-a594-4f44-aaf9-e1383eb8af63",
   "metadata": {},
   "outputs": [
    {
     "data": {
      "text/plain": [
       "'H'"
      ]
     },
     "execution_count": 36,
     "metadata": {},
     "output_type": "execute_result"
    }
   ],
   "source": [
    "hydrogen.symbol"
   ]
  },
  {
   "cell_type": "raw",
   "id": "501486d6-5795-4acf-ab46-fc89ca54785a",
   "metadata": {},
   "source": [
    "9. Define three classes: Bear, Rabbit, and Octothorpe. For each, define only one method: eats(). This\n",
    "should return 'berries' (Bear), 'clover' (Rabbit), or 'campers' (Octothorpe). Create one object from\n",
    "each and print what it eats."
   ]
  },
  {
   "cell_type": "code",
   "execution_count": 37,
   "id": "1536f9d1-1c35-45c6-8331-d97d6ec8c824",
   "metadata": {},
   "outputs": [],
   "source": [
    "class Bear:\n",
    "    def eats(self):\n",
    "        return 'berries'\n",
    "    \n",
    "class Rabbit:\n",
    "    def eats(self):\n",
    "        return 'clover'\n",
    "\n",
    "class Octothorpe:\n",
    "    def eats(self):\n",
    "        return 'campers'\n",
    "    \n",
    "b = Bear()\n",
    "r = Rabbit()\n",
    "o = Octothorpe()"
   ]
  },
  {
   "cell_type": "code",
   "execution_count": 38,
   "id": "48ba26b7-0487-47b7-b701-35d8b25c83d5",
   "metadata": {},
   "outputs": [
    {
     "name": "stdout",
     "output_type": "stream",
     "text": [
      "berries\n"
     ]
    }
   ],
   "source": [
    "print(b.eats())"
   ]
  },
  {
   "cell_type": "code",
   "execution_count": 39,
   "id": "625c4854-dec6-4f71-83f3-acdd3b13333c",
   "metadata": {},
   "outputs": [
    {
     "name": "stdout",
     "output_type": "stream",
     "text": [
      "clover\n"
     ]
    }
   ],
   "source": [
    "print(r.eats())"
   ]
  },
  {
   "cell_type": "code",
   "execution_count": 40,
   "id": "da0c4035-dc1a-40bb-9c42-6fd3c100b3ba",
   "metadata": {},
   "outputs": [
    {
     "name": "stdout",
     "output_type": "stream",
     "text": [
      "campers\n"
     ]
    }
   ],
   "source": [
    "print(o.eats())"
   ]
  },
  {
   "cell_type": "raw",
   "id": "d604ce4b-8428-43c7-bfbe-2e16fe9cc492",
   "metadata": {},
   "source": [
    "10. Define these classes: Laser, Claw, and SmartPhone. Each has only one method: does(). This\n",
    "returns 'disintegrate' (Laser), 'crush' (Claw), or 'ring' (SmartPhone). Then, define the class Robot that\n",
    "has one instance (object) of each of these. Define a does() method for the Robot that prints what its\n",
    "component objects do."
   ]
  },
  {
   "cell_type": "code",
   "execution_count": 41,
   "id": "e92ae28f-22f4-423b-a970-a6cacde0735b",
   "metadata": {},
   "outputs": [],
   "source": [
    "class Laser:\n",
    "    def does(self):\n",
    "        return 'disintegrate'\n",
    "\n",
    "class Claw:\n",
    "    def does(self):\n",
    "        return 'crush'\n",
    "    \n",
    "class SmartPhone:\n",
    "    def does(self):\n",
    "        return 'ring'\n",
    "    \n",
    "class Robot:\n",
    "    def __init__(self):\n",
    "        self.laser = Laser()\n",
    "        self.claw = Claw()\n",
    "        self.smartphone = SmartPhone()\n",
    "        \n",
    "    def does(self):\n",
    "        return '''I have many materials:\n",
    "        My laser, to %s.\n",
    "        My claw, to %s.\n",
    "        My smartphone, to %s.''' % (self.laser.does(),self.claw.does(),self.smartphone.does() )"
   ]
  },
  {
   "cell_type": "code",
   "execution_count": 44,
   "id": "9ee0f065-f638-41f0-9d62-d389ed516cee",
   "metadata": {},
   "outputs": [],
   "source": [
    "b=Robot()"
   ]
  },
  {
   "cell_type": "code",
   "execution_count": 46,
   "id": "bf68f6e5-1e9f-41ad-9f78-f2227874488f",
   "metadata": {},
   "outputs": [
    {
     "name": "stdout",
     "output_type": "stream",
     "text": [
      "I have many materials:\n",
      "        My laser, to disintegrate.\n",
      "        My claw, to crush.\n",
      "        My smartphone, to ring.\n"
     ]
    }
   ],
   "source": [
    "print(b.does())"
   ]
  },
  {
   "cell_type": "code",
   "execution_count": null,
   "id": "34e27cf2-31c7-4313-bf67-9bf61c648a7c",
   "metadata": {},
   "outputs": [],
   "source": []
  }
 ],
 "metadata": {
  "kernelspec": {
   "display_name": "Python 3 (ipykernel)",
   "language": "python",
   "name": "python3"
  },
  "language_info": {
   "codemirror_mode": {
    "name": "ipython",
    "version": 3
   },
   "file_extension": ".py",
   "mimetype": "text/x-python",
   "name": "python",
   "nbconvert_exporter": "python",
   "pygments_lexer": "ipython3",
   "version": "3.10.6"
  }
 },
 "nbformat": 4,
 "nbformat_minor": 5
}
